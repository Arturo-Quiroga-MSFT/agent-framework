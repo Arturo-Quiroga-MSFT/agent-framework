{
 "cells": [
  {
   "cell_type": "markdown",
   "id": "001c6ae6",
   "metadata": {},
   "source": [
    "# Azure AI Foundry Agent Demo\n",
    "\n",
    "This notebook demonstrates how to use Azure AI Foundry Agents with the Microsoft Agent Framework.\n",
    "\n",
    "Based on: [Azure AI Foundry Agents Documentation](https://learn.microsoft.com/en-us/agent-framework/user-guide/agents/agent-types/azure-ai-foundry-agent?pivots=programming-language-python)\n",
    "\n",
    "## Prerequisites\n",
    "\n",
    "1. Azure CLI installed and authenticated (`az login`)\n",
    "2. Azure AI Foundry project created\n",
    "3. Environment variables set:\n",
    "   - `AZURE_AI_PROJECT_ENDPOINT`\n",
    "   - `AZURE_AI_MODEL_DEPLOYMENT_NAME`"
   ]
  },
  {
   "cell_type": "markdown",
   "id": "9d26d2cd",
   "metadata": {},
   "source": [
    "## Setup: Load Environment Variables\n",
    "\n",
    "First, we'll load the required environment variables from the `.env` file."
   ]
  },
  {
   "cell_type": "code",
   "execution_count": 1,
   "id": "860f3ece",
   "metadata": {},
   "outputs": [
    {
     "name": "stdout",
     "output_type": "stream",
     "text": [
      "Project Endpoint: https://aq-ai-foundry-sweden-central.services.ai.azure.com/api/projects/firstProject\n",
      "Model Deployment: gpt-4.1\n"
     ]
    }
   ],
   "source": [
    "import os\n",
    "from pathlib import Path\n",
    "from dotenv import load_dotenv\n",
    "\n",
    "# Load environment variables from .env file\n",
    "# Navigate up from Notebooks -> agents -> getting_started -> samples -> python\n",
    "env_path = \"/Users/arturoquiroga/GITHUB/Agent-Framework-Private/python/.env\"\n",
    "load_dotenv(dotenv_path=env_path)\n",
    "\n",
    "# Verify environment variables are loaded\n",
    "print(f\"Project Endpoint: {os.getenv('AZURE_AI_PROJECT_ENDPOINT', 'Not set')}\")\n",
    "print(f\"Model Deployment: {os.getenv('AZURE_AI_MODEL_DEPLOYMENT_NAME', 'Not set')}\")"
   ]
  },
  {
   "cell_type": "markdown",
   "id": "53eda6d1",
   "metadata": {},
   "source": [
    "## Example 1: Basic Agent Creation\n",
    "\n",
    "The simplest way to create an agent using environment variables."
   ]
  },
  {
   "cell_type": "code",
   "execution_count": 2,
   "id": "90ad3125",
   "metadata": {},
   "outputs": [
    {
     "name": "stdout",
     "output_type": "stream",
     "text": [
      "Agent: Hello! I’m ChatGPT, an AI language model created by OpenAI. My purpose is to assist you with information, answer your questions, help with tasks, or just have a friendly conversation. If you need help with anything—from explaining complex topics to brainstorming ideas or even writing poems—I'm here for you! How can I assist you today?\n"
     ]
    }
   ],
   "source": [
    "from agent_framework.azure import AzureAIAgentClient\n",
    "from azure.identity.aio import AzureCliCredential\n",
    "\n",
    "async def basic_agent_example():\n",
    "    \"\"\"Create and use a basic Azure AI Foundry agent.\"\"\"\n",
    "    async with (\n",
    "        AzureCliCredential() as credential,\n",
    "        AzureAIAgentClient(async_credential=credential).create_agent(\n",
    "            name=\"HelperAgent\",\n",
    "            instructions=\"You are a helpful assistant.\"\n",
    "        ) as agent,\n",
    "    ):\n",
    "        result = await agent.run(\"Hello! Can you introduce yourself?\")\n",
    "        print(f\"Agent: {result.text}\")\n",
    "\n",
    "# Run the example\n",
    "await basic_agent_example()"
   ]
  },
  {
   "cell_type": "markdown",
   "id": "d95b0a0c",
   "metadata": {},
   "source": [
    "## Example 2: Explicit Configuration\n",
    "\n",
    "Instead of using environment variables, you can provide configuration explicitly."
   ]
  },
  {
   "cell_type": "code",
   "execution_count": 3,
   "id": "18105ca2",
   "metadata": {},
   "outputs": [
    {
     "name": "stdout",
     "output_type": "stream",
     "text": [
      "Agent: 2 + 2 equals **4**.\n"
     ]
    }
   ],
   "source": [
    "async def explicit_config_example():\n",
    "    \"\"\"Create an agent with explicit configuration.\"\"\"\n",
    "    async with (\n",
    "        AzureCliCredential() as credential,\n",
    "        AzureAIAgentClient(\n",
    "            project_endpoint=os.environ[\"AZURE_AI_PROJECT_ENDPOINT\"],\n",
    "            model_deployment_name=os.environ[\"AZURE_AI_MODEL_DEPLOYMENT_NAME\"],\n",
    "            async_credential=credential,\n",
    "            agent_name=\"ExplicitAgent\"\n",
    "        ).create_agent(\n",
    "            instructions=\"You are a helpful assistant with explicit configuration.\"\n",
    "        ) as agent,\n",
    "    ):\n",
    "        result = await agent.run(\"What's 2 + 2?\")\n",
    "        print(f\"Agent: {result.text}\")\n",
    "\n",
    "# Run the example\n",
    "await explicit_config_example()"
   ]
  },
  {
   "cell_type": "markdown",
   "id": "fbffe78b",
   "metadata": {},
   "source": [
    "## Example 3: Function Tools\n",
    "\n",
    "Provide custom function tools to Azure AI Foundry agents."
   ]
  },
  {
   "cell_type": "code",
   "execution_count": 4,
   "id": "dac1597c",
   "metadata": {},
   "outputs": [
    {
     "name": "stdout",
     "output_type": "stream",
     "text": [
      "Agent: Weather in Toronto:\n",
      "- Conditions: clear sky\n",
      "- Temperature: 17.7°C (feels like 17.1°C)\n",
      "- Humidity: 58%\n",
      "- Wind Speed: 6.2 m/s\n",
      "\n",
      "It's a pleasant and clear day in Toronto!\n"
     ]
    }
   ],
   "source": [
    "from typing import Annotated\n",
    "from pydantic import Field\n",
    "import importlib.util\n",
    "from pathlib import Path\n",
    "\n",
    "# Import weather_utils from the azure_ai_real_weather directory (sibling directory)\n",
    "weather_utils_path = Path(\"/Users/arturoquiroga/GITHUB/Agent-Framework-Private/python/samples/getting_started/agents\") / \"azure_ai_real_weather\" / \"weather_utils.py\"\n",
    "spec = importlib.util.spec_from_file_location(\"weather_utils\", weather_utils_path)\n",
    "weather_utils = importlib.util.module_from_spec(spec)\n",
    "spec.loader.exec_module(weather_utils)\n",
    "get_real_weather = weather_utils.get_real_weather\n",
    "\n",
    "async def function_tools_example():\n",
    "    \"\"\"Use custom function tools with an agent.\"\"\"\n",
    "    async with (\n",
    "        AzureCliCredential() as credential,\n",
    "        AzureAIAgentClient(async_credential=credential).create_agent(\n",
    "            name=\"WeatherAgent\",\n",
    "            instructions=\"You are a helpful weather assistant.\",\n",
    "            tools=get_real_weather\n",
    "        ) as agent,\n",
    "    ):\n",
    "        result = await agent.run(\"What's the weather like in Toronto?\")\n",
    "        print(f\"Agent: {result.text}\")\n",
    "\n",
    "# Run the example\n",
    "await function_tools_example()"
   ]
  },
  {
   "cell_type": "markdown",
   "id": "369bf513",
   "metadata": {},
   "source": [
    "## Example 4: Code Interpreter\n",
    "\n",
    "Azure AI Foundry agents support code execution through the hosted code interpreter."
   ]
  },
  {
   "cell_type": "code",
   "execution_count": 5,
   "id": "8fd75feb",
   "metadata": {},
   "outputs": [
    {
     "name": "stdout",
     "output_type": "stream",
     "text": [
      "Agent: The factorial of 20 is 2,432,902,008,176,640,000.\n"
     ]
    }
   ],
   "source": [
    "from agent_framework import HostedCodeInterpreterTool\n",
    "\n",
    "async def code_interpreter_example():\n",
    "    \"\"\"Use the hosted code interpreter tool.\"\"\"\n",
    "    async with (\n",
    "        AzureCliCredential() as credential,\n",
    "        AzureAIAgentClient(async_credential=credential).create_agent(\n",
    "            name=\"CodingAgent\",\n",
    "            instructions=\"You are a helpful assistant that can write and execute Python code.\",\n",
    "            tools=HostedCodeInterpreterTool()\n",
    "        ) as agent,\n",
    "    ):\n",
    "        result = await agent.run(\"Calculate the factorial of 20 using Python code.\")\n",
    "        print(f\"Agent: {result.text}\")\n",
    "\n",
    "# Run the example\n",
    "await code_interpreter_example()"
   ]
  },
  {
   "cell_type": "markdown",
   "id": "80c56526",
   "metadata": {},
   "source": [
    "## Example 5: Streaming Responses\n",
    "\n",
    "Get responses as they are generated using streaming."
   ]
  },
  {
   "cell_type": "code",
   "execution_count": 6,
   "id": "0ad8c11b",
   "metadata": {},
   "outputs": [
    {
     "name": "stdout",
     "output_type": "stream",
     "text": [
      "Agent: In a bustlingIn a bustling city, city, a little a little robot named robot named Pixel spent Pixel spent its days its days sweeping sweeping floors floors in an in an art museum art museum.. Pixel admired Pixel admired the colorful the colorful paintings paintings but could but could only see only see them through them through logical patterns logical patterns and lines and lines of code of code.\n",
      "\n",
      ".\n",
      "\n",
      "One quietOne quiet evening, evening, Pixel Pixel found a found a forgotten forgotten paintbrush tucked behind a display. Curious paintbrush tucked behind a display. Curious, it, it dipped dipped the brush the brush into blue paint into blue paint and traced and traced careful careful lines onto lines onto a a scrap of scrap of paper. The paper. The lines formed lines formed a a rectangle—not rectangle—not quite art quite art,, but but not quite not quite nothing nothing.\n",
      "\n",
      ".\n",
      "\n",
      "EachEach night, night, Pixel Pixel experimented with experimented with new new colors and shapes colors and shapes,, noticing that sw noticing that swirlsirls made its made its circuits spark circuits spark with with excitement excitement. It. It downloaded art downloaded art history history books and books and watched watched visitors admire masterpieces, visitors admire masterpieces, learning about learning about emotions that colors emotions that colors could express could express.\n",
      "\n",
      "One.\n",
      "\n",
      "One morning morning, a, a janitor janitor discovered Pixel discovered Pixel's artwork's artwork—a wild—a wild explosion explosion of hues of hues and shapes and shapes. Sur. Surprisedprised and delighted and delighted,, the the museum staff museum staff decided decided to to hang Pixel hang Pixel’s’s paintings paintings. Visitors. Visitors mar marveledveled at at the robot’s the robot’s unique perspective unique perspective.\n",
      "\n",
      ".\n",
      "\n",
      "PixelPixel beamed beamed ( (digitdigitallyally)) with pride with pride, finally, finally understanding art understanding art was not was not just logic just logic, but, but feeling feeling—and—and now, now, Pixel could Pixel could feel in feel in color color..\n",
      "\n"
     ]
    }
   ],
   "source": [
    "async def streaming_example():\n",
    "    \"\"\"Stream responses as they are generated.\"\"\"\n",
    "    async with (\n",
    "        AzureCliCredential() as credential,\n",
    "        AzureAIAgentClient(async_credential=credential).create_agent(\n",
    "            name=\"StreamingAgent\",\n",
    "            instructions=\"You are a helpful assistant.\"\n",
    "        ) as agent,\n",
    "    ):\n",
    "        print(\"Agent: \", end=\"\", flush=True)\n",
    "        async for chunk in agent.run_stream(\"Tell me a short story about a robot learning to paint.\"):\n",
    "            if chunk.text:\n",
    "                print(chunk.text, end=\"\", flush=True)\n",
    "        print()  # New line at the end\n",
    "\n",
    "# Run the example\n",
    "await streaming_example()"
   ]
  },
  {
   "cell_type": "markdown",
   "id": "aeaf6bb9",
   "metadata": {},
   "source": [
    "## Example 6: Using an Existing Agent by ID\n",
    "\n",
    "If you have an existing agent in Azure AI Foundry, you can use it by providing its ID.\n",
    "\n",
    "**Note:** Uncomment and replace `<existing-agent-id>` with your actual agent ID to run this example."
   ]
  },
  {
   "cell_type": "code",
   "execution_count": 7,
   "id": "b3b53f6e",
   "metadata": {},
   "outputs": [
    {
     "name": "stdout",
     "output_type": "stream",
     "text": [
      "Agent: Certainly! **Microsoft Agent Framework** refers to a set of technologies and software components provided by Microsoft for the creation of interactive, animated characters (called **agents**) that can interact with users, mainly through speech and text. These agents were intended to make software interfaces more friendly, engaging, and accessible.\n",
      "\n",
      "## Key Points\n",
      "\n",
      "### Background\n",
      "- **Introduced:** Microsoft Agent was released in the late 1990s, primarily for Windows operating systems (Windows 98/XP/2000, etc.).\n",
      "- **Components:** The framework included an API for software developers, character design tools, speech engines, and sample animated characters (like the well-known \"Clippy\" in Microsoft Office).\n",
      "\n",
      "### Features\n",
      "- **Animated Characters**: Characters could perform animations, display emotions, and even move across the screen.\n",
      "- **Speech Recognition & Synthesis**: Integration with the Microsoft Speech API (SAPI), allowing agents to recognize spoken commands and reply with synthesized speech.\n",
      "- **Text Interaction**: Agents could process user input through text, providing responses and information.\n",
      "- **Programmability**: Developers could embed agents into their applications, websites (with ActiveX), or even custom interfaces using VBScript, Visual Basic, or C++.\n",
      "\n",
      "### Use Cases\n",
      "- **Application Help**: Agents could guide users through tasks, offering help and tips (e.g., Office Assistant — Clippy).\n",
      "- **Educational Software**: Used to make learning software more interactive.\n",
      "- **Entertainment**: Simple games or storytelling applications.\n",
      "\n",
      "### Discontinuation\n",
      "- **End of Support**: Microsoft Agent was discontinued with Windows 7, as modern UI paradigms replaced the approach.\n",
      "- **Legacy**: The concept paved the way for modern *virtual assistants* such as Cortana, Siri, Alexa, etc. Additionally, it influenced advancements in conversational AI, chatbots, and natural UI design.\n",
      "\n",
      "## Related Technologies\n",
      "- **Microsoft Speech API (SAPI)**\n",
      "- **Windows Forms Animation**\n",
      "- **Cortana (Modern Virtual Assistant)**\n",
      "\n",
      "## Resources\n",
      "- [Official Microsoft Agent documentation (archive)](https://web.archive.org/web/20100104223116/http://www.microsoft.com/msagent/)\n",
      "- [Wikipedia: Microsoft Agent](https://en.wikipedia.org/wiki/Microsoft_Agent)\n",
      "\n",
      "---\n",
      "\n",
      "**In summary**: The Microsoft Agent Framework was an early effort by Microsoft to make computing more interactive and approachable through animated, speech-enabled assistants. Though the technology is now obsolete, it was a forerunner to today's virtual assistants and conversational AI interfaces.\n",
      "\n",
      "If you have a specific context in mind (e.g., current Microsoft agent frameworks in conversational AI or cloud platforms), let me know!\n"
     ]
    }
   ],
   "source": [
    "from agent_framework import ChatAgent\n",
    "\n",
    "async def existing_agent_example():\n",
    "    \"\"\"Use an existing agent by its ID.\"\"\"\n",
    "    # Replace with your actual agent ID\n",
    "    agent_id = \"asst_5UbkTkbNy4qWWQ2iM16z12R8\"  # e.g., \"asst_abc123...\"\n",
    "    \n",
    "    async with (\n",
    "        AzureCliCredential() as credential,\n",
    "        ChatAgent(\n",
    "            chat_client=AzureAIAgentClient(\n",
    "                async_credential=credential,\n",
    "                agent_id=agent_id\n",
    "            ),\n",
    "            instructions=\"You are a helpful assistant.\"\n",
    "        ) as agent,\n",
    "    ):\n",
    "        result = await agent.run(\"Tell me about Microsoft Agent Framework\")\n",
    "        print(f\"Agent: {result.text}\")\n",
    "\n",
    "# Uncomment to run the example\n",
    "await existing_agent_example()"
   ]
  },
  {
   "cell_type": "markdown",
   "id": "f7b7a579",
   "metadata": {},
   "source": [
    "## Example 7: Creating and Managing Persistent Agents\n",
    "\n",
    "For more control over agent lifecycle, you can create persistent agents using the Azure AI Projects client."
   ]
  },
  {
   "cell_type": "code",
   "execution_count": 8,
   "id": "d4ce8f39",
   "metadata": {},
   "outputs": [
    {
     "name": "stdout",
     "output_type": "stream",
     "text": [
      "Created persistent agent with ID: asst_27ii38n4X8MXBQouE6jnmc2S\n",
      "Agent: Got it! Your favorite color is blue. If you need recommendations or want to talk about anything related to blue, just let me know!\n",
      "Agent: Got it! Your favorite color is blue. If you need recommendations or want to talk about anything related to blue, just let me know!\n",
      "Agent: I don’t know your favorite color yet! If you tell me, I’ll remember it for our conversation. What is your favorite color?\n",
      "Agent: I don’t know your favorite color yet! If you tell me, I’ll remember it for our conversation. What is your favorite color?\n",
      "Deleted agent asst_27ii38n4X8MXBQouE6jnmc2S\n",
      "Deleted agent asst_27ii38n4X8MXBQouE6jnmc2S\n"
     ]
    }
   ],
   "source": [
    "from azure.ai.projects.aio import AIProjectClient\n",
    "\n",
    "async def persistent_agent_example():\n",
    "    \"\"\"Create and manage a persistent agent.\"\"\"\n",
    "    async with (\n",
    "        AzureCliCredential() as credential,\n",
    "        AIProjectClient(\n",
    "            endpoint=os.environ[\"AZURE_AI_PROJECT_ENDPOINT\"], \n",
    "            credential=credential\n",
    "        ) as project_client,\n",
    "    ):\n",
    "        # Create a persistent agent\n",
    "        created_agent = await project_client.agents.create_agent(\n",
    "            model=os.environ[\"AZURE_AI_MODEL_DEPLOYMENT_NAME\"],\n",
    "            name=\"PersistentAgent\",\n",
    "            instructions=\"You are a helpful assistant that persists across sessions.\"\n",
    "        )\n",
    "        \n",
    "        print(f\"Created persistent agent with ID: {created_agent.id}\")\n",
    "\n",
    "        try:\n",
    "            # Use the agent\n",
    "            async with ChatAgent(\n",
    "                chat_client=AzureAIAgentClient(\n",
    "                    project_client=project_client,\n",
    "                    agent_id=created_agent.id\n",
    "                ),\n",
    "                instructions=\"You are a helpful assistant.\"\n",
    "            ) as agent:\n",
    "                result = await agent.run(\"Hello! Remember this: my favorite color is blue.\")\n",
    "                print(f\"Agent: {result.text}\")\n",
    "                \n",
    "                # Ask a follow-up question\n",
    "                result2 = await agent.run(\"What is my favorite color?\")\n",
    "                print(f\"Agent: {result2.text}\")\n",
    "        finally:\n",
    "            # Clean up the agent\n",
    "            await project_client.agents.delete_agent(created_agent.id)\n",
    "            print(f\"Deleted agent {created_agent.id}\")\n",
    "\n",
    "# Run the example\n",
    "await persistent_agent_example()"
   ]
  },
  {
   "cell_type": "markdown",
   "id": "1dbd81e6",
   "metadata": {},
   "source": [
    "## Example 8: Multiple Tools Combined\n",
    "\n",
    "Combine multiple tools including custom functions and code interpreter."
   ]
  },
  {
   "cell_type": "code",
   "execution_count": 9,
   "id": "b50397cf",
   "metadata": {},
   "outputs": [
    {
     "name": "stdout",
     "output_type": "stream",
     "text": [
      "Agent: Here are your results:\n",
      "\n",
      "- You rolled a 5 on a 20-sided dice!\n",
      "- Weather in Paris: Clear sky, 16.05°C (feels like 15.04°C), 51% humidity, wind speed 3.6 m/s.\n",
      "- 15% of 200 is 30.\n"
     ]
    }
   ],
   "source": [
    "from random import randint\n",
    "\n",
    "def roll_dice(\n",
    "    sides: Annotated[int, Field(description=\"Number of sides on the dice\", ge=4, le=100)] = 6\n",
    ") -> str:\n",
    "    \"\"\"Roll a dice with the specified number of sides.\"\"\"\n",
    "    result = randint(1, sides)\n",
    "    return f\"You rolled a {result} on a {sides}-sided dice!\"\n",
    "\n",
    "async def multiple_tools_example():\n",
    "    \"\"\"Use multiple tools together.\"\"\"\n",
    "    async with (\n",
    "        AzureCliCredential() as credential,\n",
    "        AzureAIAgentClient(async_credential=credential).create_agent(\n",
    "            name=\"MultiToolAgent\",\n",
    "            instructions=\"You are a helpful assistant that can check weather, roll dice, and execute code.\",\n",
    "            tools=[get_real_weather, roll_dice, HostedCodeInterpreterTool()]\n",
    "        ) as agent,\n",
    "    ):\n",
    "        # Query that uses multiple tools\n",
    "        result = await agent.run(\n",
    "            \"First, roll a 20-sided dice. Then check the weather in Paris. \"\n",
    "            \"Finally, use Python to calculate what 15% of 200 is.\"\n",
    "        )\n",
    "        print(f\"Agent: {result.text}\")\n",
    "\n",
    "# Run the example\n",
    "await multiple_tools_example()"
   ]
  },
  {
   "cell_type": "markdown",
   "id": "338fa3da",
   "metadata": {},
   "source": [
    "## Example 9: Conversation Threading\n",
    "\n",
    "Maintain conversation context across multiple interactions using threads."
   ]
  },
  {
   "cell_type": "code",
   "execution_count": 10,
   "id": "f9c13057",
   "metadata": {},
   "outputs": [
    {
     "name": "stdout",
     "output_type": "stream",
     "text": [
      "User: My name is ARTURO and I love riding my road bike.\n",
      "Agent: Hi Arturo! It’s great to meet another road cycling enthusiast. How long have you been riding, and do you have any favorite routes or destinations you like to explore on your bike?\n",
      "\n",
      "User: What's my name and what do I love?\n",
      "Agent: Hi Arturo! It’s great to meet another road cycling enthusiast. How long have you been riding, and do you have any favorite routes or destinations you like to explore on your bike?\n",
      "\n",
      "User: What's my name and what do I love?\n",
      "Agent: Your name is Arturo, and you love riding your road bike.\n",
      "\n",
      "User: Can you suggest a book for me based on my interests?\n",
      "Agent: Your name is Arturo, and you love riding your road bike.\n",
      "\n",
      "User: Can you suggest a book for me based on my interests?\n",
      "Agent: Absolutely, Arturo! Since you love riding your road bike, I recommend **“The Rider” by Tim Krabbé**. It’s a classic among cyclists and beautifully captures the essence of road cycling—from the physical challenge to the emotional highs and lows of racing.\n",
      "\n",
      "If you’d prefer something with a broader scope, you might also enjoy **“Rouleur Annual”** (published yearly), which is a beautifully photographed collection of stories and essays from the world of road cycling.\n",
      "\n",
      "Let me know if you want recommendations on training, adventure cycling, or biographies of famous riders!\n",
      "Agent: Absolutely, Arturo! Since you love riding your road bike, I recommend **“The Rider” by Tim Krabbé**. It’s a classic among cyclists and beautifully captures the essence of road cycling—from the physical challenge to the emotional highs and lows of racing.\n",
      "\n",
      "If you’d prefer something with a broader scope, you might also enjoy **“Rouleur Annual”** (published yearly), which is a beautifully photographed collection of stories and essays from the world of road cycling.\n",
      "\n",
      "Let me know if you want recommendations on training, adventure cycling, or biographies of famous riders!\n"
     ]
    }
   ],
   "source": [
    "async def threading_example():\n",
    "    \"\"\"Demonstrate conversation threading.\"\"\"\n",
    "    async with (\n",
    "        AzureCliCredential() as credential,\n",
    "        AzureAIAgentClient(async_credential=credential).create_agent(\n",
    "            name=\"ThreadedAgent\",\n",
    "            instructions=\"You are a helpful assistant that remembers conversation context.\"\n",
    "        ) as agent,\n",
    "    ):\n",
    "        # Create a thread for this conversation\n",
    "        thread = agent.get_new_thread()\n",
    "        \n",
    "        # First message\n",
    "        print(\"User: My name is ARTURO and I love riding my road bike.\")\n",
    "        result1 = await agent.run(\n",
    "            \"My name is ARTURO and I love riding my road bike.\",\n",
    "            thread=thread,\n",
    "            store=True\n",
    "        )\n",
    "        print(f\"Agent: {result1.text}\\n\")\n",
    "        \n",
    "        # Second message - agent should remember name and interest\n",
    "        print(\"User: What's my name and what do I love?\")\n",
    "        result2 = await agent.run(\n",
    "            \"What's my name and what do I love?\",\n",
    "            thread=thread,\n",
    "            store=True\n",
    "        )\n",
    "        print(f\"Agent: {result2.text}\\n\")\n",
    "        \n",
    "        # Third message - continuing the conversation\n",
    "        print(\"User: Can you suggest a book for me based on my interests?\")\n",
    "        result3 = await agent.run(\n",
    "            \"Can you suggest a book for me based on my interests?\",\n",
    "            thread=thread,\n",
    "            store=True\n",
    "        )\n",
    "        print(f\"Agent: {result3.text}\")\n",
    "\n",
    "# Run the example\n",
    "await threading_example()"
   ]
  },
  {
   "cell_type": "markdown",
   "id": "85509f60",
   "metadata": {},
   "source": [
    "## Summary\n",
    "\n",
    "This notebook demonstrated key features of Azure AI Foundry Agents:\n",
    "\n",
    "1. **Basic Agent Creation** - Simple agent setup with environment variables\n",
    "2. **Explicit Configuration** - Direct configuration without environment variables\n",
    "3. **Function Tools** - Custom functions as tools for agents\n",
    "4. **Code Interpreter** - Execute Python code through the hosted interpreter\n",
    "5. **Streaming Responses** - Real-time response streaming\n",
    "6. **Existing Agents** - Reuse agents by ID\n",
    "7. **Persistent Agents** - Full lifecycle management with cleanup\n",
    "8. **Multiple Tools** - Combine different tool types\n",
    "9. **Conversation Threading** - Maintain context across interactions\n",
    "\n",
    "## Next Steps\n",
    "\n",
    "- Explore [Agent Framework Tutorials](https://learn.microsoft.com/en-us/agent-framework/tutorials/overview)\n",
    "- Learn about [OpenAI ChatCompletion Agents](https://learn.microsoft.com/en-us/agent-framework/user-guide/agents/agent-types/azure-openai-chat-completion-agent)\n",
    "- Check out more examples in the `samples` directory"
   ]
  }
 ],
 "metadata": {
  "kernelspec": {
   "display_name": ".venv",
   "language": "python",
   "name": "python3"
  },
  "language_info": {
   "codemirror_mode": {
    "name": "ipython",
    "version": 3
   },
   "file_extension": ".py",
   "mimetype": "text/x-python",
   "name": "python",
   "nbconvert_exporter": "python",
   "pygments_lexer": "ipython3",
   "version": "3.13.7"
  }
 },
 "nbformat": 4,
 "nbformat_minor": 5
}
